{
 "cells": [
  {
   "cell_type": "code",
   "execution_count": 1,
   "id": "e91336c9",
   "metadata": {},
   "outputs": [],
   "source": [
    "import pandas as pd\n",
    "import numpy as np\n",
    "import matplotlib as plt\n",
    "import seaborn as sns"
   ]
  },
  {
   "cell_type": "markdown",
   "id": "20016273",
   "metadata": {},
   "source": [
    "| Question                                                                                                                    |\n",
    "|-----------------------------------------------------------------------------------------------------------------------------|\n",
    "| What is the distribution of subscription types (Basic, Standard, Premium) among the Netflix userbase?                       |\n",
    "| How does the monthly revenue generated from subscriptions vary across different subscription types?                         | \n",
    "| What is the average duration between a user joining Netflix and making their last payment?                                  |\n",
    "| Are there any correlations between the user's device type and their subscription type?                                      |\n",
    "| Which country has the highest number of Netflix users in the dataset?                                                       |"
   ]
  },
  {
   "cell_type": "code",
   "execution_count": 2,
   "id": "cf478403",
   "metadata": {},
   "outputs": [
    {
     "data": {
      "text/html": [
       "<div>\n",
       "<style scoped>\n",
       "    .dataframe tbody tr th:only-of-type {\n",
       "        vertical-align: middle;\n",
       "    }\n",
       "\n",
       "    .dataframe tbody tr th {\n",
       "        vertical-align: top;\n",
       "    }\n",
       "\n",
       "    .dataframe thead th {\n",
       "        text-align: right;\n",
       "    }\n",
       "</style>\n",
       "<table border=\"1\" class=\"dataframe\">\n",
       "  <thead>\n",
       "    <tr style=\"text-align: right;\">\n",
       "      <th></th>\n",
       "      <th>User ID</th>\n",
       "      <th>Subscription Type</th>\n",
       "      <th>Monthly Revenue</th>\n",
       "      <th>Join Date</th>\n",
       "      <th>Last Payment Date</th>\n",
       "      <th>Country</th>\n",
       "      <th>Age</th>\n",
       "      <th>Gender</th>\n",
       "      <th>Device</th>\n",
       "      <th>Plan Duration</th>\n",
       "    </tr>\n",
       "  </thead>\n",
       "  <tbody>\n",
       "    <tr>\n",
       "      <th>0</th>\n",
       "      <td>1</td>\n",
       "      <td>Basic</td>\n",
       "      <td>10</td>\n",
       "      <td>15-01-22</td>\n",
       "      <td>10-06-23</td>\n",
       "      <td>United States</td>\n",
       "      <td>28</td>\n",
       "      <td>Male</td>\n",
       "      <td>Smartphone</td>\n",
       "      <td>1 Month</td>\n",
       "    </tr>\n",
       "    <tr>\n",
       "      <th>1</th>\n",
       "      <td>2</td>\n",
       "      <td>Premium</td>\n",
       "      <td>15</td>\n",
       "      <td>05-09-21</td>\n",
       "      <td>22-06-23</td>\n",
       "      <td>Canada</td>\n",
       "      <td>35</td>\n",
       "      <td>Female</td>\n",
       "      <td>Tablet</td>\n",
       "      <td>1 Month</td>\n",
       "    </tr>\n",
       "    <tr>\n",
       "      <th>2</th>\n",
       "      <td>3</td>\n",
       "      <td>Standard</td>\n",
       "      <td>12</td>\n",
       "      <td>28-02-23</td>\n",
       "      <td>27-06-23</td>\n",
       "      <td>United Kingdom</td>\n",
       "      <td>42</td>\n",
       "      <td>Male</td>\n",
       "      <td>Smart TV</td>\n",
       "      <td>1 Month</td>\n",
       "    </tr>\n",
       "    <tr>\n",
       "      <th>3</th>\n",
       "      <td>4</td>\n",
       "      <td>Standard</td>\n",
       "      <td>12</td>\n",
       "      <td>10-07-22</td>\n",
       "      <td>26-06-23</td>\n",
       "      <td>Australia</td>\n",
       "      <td>51</td>\n",
       "      <td>Female</td>\n",
       "      <td>Laptop</td>\n",
       "      <td>1 Month</td>\n",
       "    </tr>\n",
       "    <tr>\n",
       "      <th>4</th>\n",
       "      <td>5</td>\n",
       "      <td>Basic</td>\n",
       "      <td>10</td>\n",
       "      <td>01-05-23</td>\n",
       "      <td>28-06-23</td>\n",
       "      <td>Germany</td>\n",
       "      <td>33</td>\n",
       "      <td>Male</td>\n",
       "      <td>Smartphone</td>\n",
       "      <td>1 Month</td>\n",
       "    </tr>\n",
       "  </tbody>\n",
       "</table>\n",
       "</div>"
      ],
      "text/plain": [
       "   User ID Subscription Type  Monthly Revenue Join Date Last Payment Date  \\\n",
       "0        1             Basic               10  15-01-22          10-06-23   \n",
       "1        2           Premium               15  05-09-21          22-06-23   \n",
       "2        3          Standard               12  28-02-23          27-06-23   \n",
       "3        4          Standard               12  10-07-22          26-06-23   \n",
       "4        5             Basic               10  01-05-23          28-06-23   \n",
       "\n",
       "          Country  Age  Gender      Device Plan Duration  \n",
       "0   United States   28    Male  Smartphone       1 Month  \n",
       "1          Canada   35  Female      Tablet       1 Month  \n",
       "2  United Kingdom   42    Male    Smart TV       1 Month  \n",
       "3       Australia   51  Female      Laptop       1 Month  \n",
       "4         Germany   33    Male  Smartphone       1 Month  "
      ]
     },
     "execution_count": 2,
     "metadata": {},
     "output_type": "execute_result"
    }
   ],
   "source": [
    "netflix_df=pd.read_csv(\"Netflix Userbase.csv\")\n",
    "netflix_df.head()"
   ]
  },
  {
   "cell_type": "code",
   "execution_count": 3,
   "id": "d407ebcb",
   "metadata": {},
   "outputs": [
    {
     "data": {
      "text/plain": [
       "Index(['User ID', 'Subscription Type', 'Monthly Revenue', 'Join Date',\n",
       "       'Last Payment Date', 'Country', 'Age', 'Gender', 'Device',\n",
       "       'Plan Duration'],\n",
       "      dtype='object')"
      ]
     },
     "execution_count": 3,
     "metadata": {},
     "output_type": "execute_result"
    }
   ],
   "source": [
    "netflix_df.columns"
   ]
  },
  {
   "cell_type": "code",
   "execution_count": 4,
   "id": "8e709c99",
   "metadata": {},
   "outputs": [
    {
     "data": {
      "text/plain": [
       "User ID               int64\n",
       "Subscription Type    object\n",
       "Monthly Revenue       int64\n",
       "Join Date            object\n",
       "Last Payment Date    object\n",
       "Country              object\n",
       "Age                   int64\n",
       "Gender               object\n",
       "Device               object\n",
       "Plan Duration        object\n",
       "dtype: object"
      ]
     },
     "execution_count": 4,
     "metadata": {},
     "output_type": "execute_result"
    }
   ],
   "source": [
    "netflix_df.dtypes"
   ]
  },
  {
   "cell_type": "code",
   "execution_count": 5,
   "id": "4209a1c1",
   "metadata": {},
   "outputs": [],
   "source": [
    "netflix_df['Join Date']=pd.to_datetime(netflix_df['Join Date']).dt.date\n",
    "netflix_df['Last Payment Date']=pd.to_datetime(netflix_df['Last Payment Date']).dt.date"
   ]
  },
  {
   "cell_type": "code",
   "execution_count": 6,
   "id": "224d034f",
   "metadata": {},
   "outputs": [
    {
     "name": "stdout",
     "output_type": "stream",
     "text": [
      "<class 'pandas.core.frame.DataFrame'>\n",
      "RangeIndex: 2500 entries, 0 to 2499\n",
      "Data columns (total 10 columns):\n",
      " #   Column             Non-Null Count  Dtype \n",
      "---  ------             --------------  ----- \n",
      " 0   User ID            2500 non-null   int64 \n",
      " 1   Subscription Type  2500 non-null   object\n",
      " 2   Monthly Revenue    2500 non-null   int64 \n",
      " 3   Join Date          2500 non-null   object\n",
      " 4   Last Payment Date  2500 non-null   object\n",
      " 5   Country            2500 non-null   object\n",
      " 6   Age                2500 non-null   int64 \n",
      " 7   Gender             2500 non-null   object\n",
      " 8   Device             2500 non-null   object\n",
      " 9   Plan Duration      2500 non-null   object\n",
      "dtypes: int64(3), object(7)\n",
      "memory usage: 195.4+ KB\n"
     ]
    }
   ],
   "source": [
    "netflix_df.info()"
   ]
  },
  {
   "cell_type": "code",
   "execution_count": 7,
   "id": "d0131ccb",
   "metadata": {
    "scrolled": true
   },
   "outputs": [
    {
     "data": {
      "text/html": [
       "<div>\n",
       "<style scoped>\n",
       "    .dataframe tbody tr th:only-of-type {\n",
       "        vertical-align: middle;\n",
       "    }\n",
       "\n",
       "    .dataframe tbody tr th {\n",
       "        vertical-align: top;\n",
       "    }\n",
       "\n",
       "    .dataframe thead th {\n",
       "        text-align: right;\n",
       "    }\n",
       "</style>\n",
       "<table border=\"1\" class=\"dataframe\">\n",
       "  <thead>\n",
       "    <tr style=\"text-align: right;\">\n",
       "      <th></th>\n",
       "      <th>User ID</th>\n",
       "      <th>Monthly Revenue</th>\n",
       "      <th>Age</th>\n",
       "    </tr>\n",
       "  </thead>\n",
       "  <tbody>\n",
       "    <tr>\n",
       "      <th>count</th>\n",
       "      <td>2500.00000</td>\n",
       "      <td>2500.000000</td>\n",
       "      <td>2500.000000</td>\n",
       "    </tr>\n",
       "    <tr>\n",
       "      <th>mean</th>\n",
       "      <td>1250.50000</td>\n",
       "      <td>12.508400</td>\n",
       "      <td>38.795600</td>\n",
       "    </tr>\n",
       "    <tr>\n",
       "      <th>std</th>\n",
       "      <td>721.83216</td>\n",
       "      <td>1.686851</td>\n",
       "      <td>7.171778</td>\n",
       "    </tr>\n",
       "    <tr>\n",
       "      <th>min</th>\n",
       "      <td>1.00000</td>\n",
       "      <td>10.000000</td>\n",
       "      <td>26.000000</td>\n",
       "    </tr>\n",
       "    <tr>\n",
       "      <th>25%</th>\n",
       "      <td>625.75000</td>\n",
       "      <td>11.000000</td>\n",
       "      <td>32.000000</td>\n",
       "    </tr>\n",
       "    <tr>\n",
       "      <th>50%</th>\n",
       "      <td>1250.50000</td>\n",
       "      <td>12.000000</td>\n",
       "      <td>39.000000</td>\n",
       "    </tr>\n",
       "    <tr>\n",
       "      <th>75%</th>\n",
       "      <td>1875.25000</td>\n",
       "      <td>14.000000</td>\n",
       "      <td>45.000000</td>\n",
       "    </tr>\n",
       "    <tr>\n",
       "      <th>max</th>\n",
       "      <td>2500.00000</td>\n",
       "      <td>15.000000</td>\n",
       "      <td>51.000000</td>\n",
       "    </tr>\n",
       "  </tbody>\n",
       "</table>\n",
       "</div>"
      ],
      "text/plain": [
       "          User ID  Monthly Revenue          Age\n",
       "count  2500.00000      2500.000000  2500.000000\n",
       "mean   1250.50000        12.508400    38.795600\n",
       "std     721.83216         1.686851     7.171778\n",
       "min       1.00000        10.000000    26.000000\n",
       "25%     625.75000        11.000000    32.000000\n",
       "50%    1250.50000        12.000000    39.000000\n",
       "75%    1875.25000        14.000000    45.000000\n",
       "max    2500.00000        15.000000    51.000000"
      ]
     },
     "execution_count": 7,
     "metadata": {},
     "output_type": "execute_result"
    }
   ],
   "source": [
    "netflix_df.describe()"
   ]
  },
  {
   "cell_type": "code",
   "execution_count": 8,
   "id": "85d3156f",
   "metadata": {},
   "outputs": [
    {
     "data": {
      "text/plain": [
       "(2500, 10)"
      ]
     },
     "execution_count": 8,
     "metadata": {},
     "output_type": "execute_result"
    }
   ],
   "source": [
    "netflix_df.shape"
   ]
  },
  {
   "cell_type": "code",
   "execution_count": 9,
   "id": "cc85a4a6",
   "metadata": {
    "scrolled": false
   },
   "outputs": [
    {
     "name": "stdout",
     "output_type": "stream",
     "text": [
      "Missing Values in Departures Dataset:\n",
      "User ID              0\n",
      "Subscription Type    0\n",
      "Monthly Revenue      0\n",
      "Join Date            0\n",
      "Last Payment Date    0\n",
      "Country              0\n",
      "Age                  0\n",
      "Gender               0\n",
      "Device               0\n",
      "Plan Duration        0\n",
      "dtype: int64\n"
     ]
    }
   ],
   "source": [
    "print(\"Missing Values in Departures Dataset:\")\n",
    "print(netflix_df.isnull().sum())"
   ]
  },
  {
   "cell_type": "markdown",
   "id": "9371584c",
   "metadata": {},
   "source": [
    "# What is the distribution of subscription types (Basic, Standard, Premium) among the Netflix userbase?"
   ]
  },
  {
   "cell_type": "code",
   "execution_count": 10,
   "id": "93acaaeb",
   "metadata": {},
   "outputs": [],
   "source": [
    "netflix_df.loc[netflix_df['Age']<=19, 'Age Group'] = 'Teenage'\n",
    "netflix_df.loc[netflix_df['Age'].between(20,24), 'Age Group'] = 'Young Adult'\n",
    "netflix_df.loc[netflix_df['Age'].between(25,39), 'Age Group'] = 'Adult'\n",
    "netflix_df.loc[netflix_df['Age']>39, 'Age Group'] = 'Older Adult'"
   ]
  },
  {
   "cell_type": "code",
   "execution_count": 15,
   "id": "1925bc8c",
   "metadata": {},
   "outputs": [
    {
     "data": {
      "text/html": [
       "<div>\n",
       "<style scoped>\n",
       "    .dataframe tbody tr th:only-of-type {\n",
       "        vertical-align: middle;\n",
       "    }\n",
       "\n",
       "    .dataframe tbody tr th {\n",
       "        vertical-align: top;\n",
       "    }\n",
       "\n",
       "    .dataframe thead th {\n",
       "        text-align: right;\n",
       "    }\n",
       "</style>\n",
       "<table border=\"1\" class=\"dataframe\">\n",
       "  <thead>\n",
       "    <tr style=\"text-align: right;\">\n",
       "      <th></th>\n",
       "      <th>Subscription Type</th>\n",
       "      <th>Age Group</th>\n",
       "      <th>User ID</th>\n",
       "      <th>Monthly Revenue</th>\n",
       "    </tr>\n",
       "  </thead>\n",
       "  <tbody>\n",
       "    <tr>\n",
       "      <th>0</th>\n",
       "      <td>Basic</td>\n",
       "      <td>Adult</td>\n",
       "      <td>542</td>\n",
       "      <td>6788</td>\n",
       "    </tr>\n",
       "    <tr>\n",
       "      <th>1</th>\n",
       "      <td>Basic</td>\n",
       "      <td>Older Adult</td>\n",
       "      <td>457</td>\n",
       "      <td>5681</td>\n",
       "    </tr>\n",
       "    <tr>\n",
       "      <th>2</th>\n",
       "      <td>Premium</td>\n",
       "      <td>Adult</td>\n",
       "      <td>391</td>\n",
       "      <td>4941</td>\n",
       "    </tr>\n",
       "    <tr>\n",
       "      <th>3</th>\n",
       "      <td>Premium</td>\n",
       "      <td>Older Adult</td>\n",
       "      <td>342</td>\n",
       "      <td>4288</td>\n",
       "    </tr>\n",
       "    <tr>\n",
       "      <th>4</th>\n",
       "      <td>Standard</td>\n",
       "      <td>Adult</td>\n",
       "      <td>394</td>\n",
       "      <td>4889</td>\n",
       "    </tr>\n",
       "    <tr>\n",
       "      <th>5</th>\n",
       "      <td>Standard</td>\n",
       "      <td>Older Adult</td>\n",
       "      <td>374</td>\n",
       "      <td>4684</td>\n",
       "    </tr>\n",
       "  </tbody>\n",
       "</table>\n",
       "</div>"
      ],
      "text/plain": [
       "  Subscription Type    Age Group  User ID  Monthly Revenue\n",
       "0             Basic        Adult      542             6788\n",
       "1             Basic  Older Adult      457             5681\n",
       "2           Premium        Adult      391             4941\n",
       "3           Premium  Older Adult      342             4288\n",
       "4          Standard        Adult      394             4889\n",
       "5          Standard  Older Adult      374             4684"
      ]
     },
     "execution_count": 15,
     "metadata": {},
     "output_type": "execute_result"
    }
   ],
   "source": [
    "sub_distribution = netflix_df.groupby(['Subscription Type','Age Group']).agg({'User ID': 'count', 'Monthly Revenue': 'sum'})\n",
    "sub_distribution=sub_distribution.reset_index()\n",
    "sub_distribution"
   ]
  },
  {
   "cell_type": "code",
   "execution_count": 17,
   "id": "a7eb9af3",
   "metadata": {},
   "outputs": [
    {
     "data": {
      "image/png": "[encoded data removed]",
      "text/plain": [
       "<Figure size 720x432 with 1 Axes>"
      ]
     },
     "metadata": {
      "needs_background": "light"
     },
     "output_type": "display_data"
    }
   ],
   "source": [
    "import matplotlib.pyplot as plt\n",
    "# Assuming the data is stored in a DataFrame named 'df'\n",
    "\n",
    "subscription_types = sub_distribution['Subscription Type'].unique().tolist()\n",
    "age_groups = sub_distribution['Age Group'].unique().tolist()\n",
    "\n",
    "\n",
    "# Extract the vsub_distributionalues for 'User ID' and 'Monthly Revenue'\n",
    "user_ids = sub_distribution['User ID'].values\n",
    "monthly_revenues = sub_distribution['Monthly Revenue'].values\n",
    "\n",
    "# Create the bar plot\n",
    "fig, ax = plt.subplots(figsize=(10, 6))\n",
    "x = range(len(sub_distribution))\n",
    "width = 0.3\n",
    "\n",
    "# Determine the number of combinations\n",
    "num_combinations = len(subscription_types) * len(age_groups)\n",
    "\n",
    "\n",
    "# Set the x-axis tick labels\n",
    "tick_labels = []\n",
    "for sub_type in subscription_types:\n",
    "    for age_group in age_groups:\n",
    "        tick_labels.append('{} - {}'.format(sub_type, age_group))\n",
    "# Plot User ID\n",
    "user_id_bars = ax.bar(x, user_ids, width, label='User ID')\n",
    "# Plot Monthly Revenue\n",
    "revenue_bars=ax.bar([i + width for i in x], monthly_revenues, width, label='Monthly Revenue')\n",
    "ax.set_xticks(x)\n",
    "ax.set_xticklabels(tick_labels, rotation=45, ha='right')\n",
    "\n",
    "\n",
    "# Add labels to the top of the bars\n",
    "for bar in user_id_bars + revenue_bars:\n",
    "    height = bar.get_height()\n",
    "    ax.text(bar.get_x() + bar.get_width() / 2, height, height, ha='center', va='bottom')\n",
    "\n",
    "\n",
    "\n",
    "\n",
    "# Set the y-axis label\n",
    "ax.set_ylabel('Value')\n",
    "\n",
    "# Set the chart title and legend\n",
    "ax.set_title('User ID and Monthly Revenue by Subscription Type and Age Group')\n",
    "\n",
    "ax.legend()\n",
    "\n",
    "# Show the plot\n",
    "plt.tight_layout()\n",
    "plt.show()\n"
   ]
  },
  {
   "cell_type": "markdown",
   "id": "0cf17349",
   "metadata": {},
   "source": [
    "# How does the monthly revenue generated from subscriptions vary across different subscription types?"
   ]
  },
  {
   "cell_type": "code",
   "execution_count": 18,
   "id": "b3ead80d",
   "metadata": {},
   "outputs": [
    {
     "data": {
      "text/html": [
       "<div>\n",
       "<style scoped>\n",
       "    .dataframe tbody tr th:only-of-type {\n",
       "        vertical-align: middle;\n",
       "    }\n",
       "\n",
       "    .dataframe tbody tr th {\n",
       "        vertical-align: top;\n",
       "    }\n",
       "\n",
       "    .dataframe thead th {\n",
       "        text-align: right;\n",
       "    }\n",
       "</style>\n",
       "<table border=\"1\" class=\"dataframe\">\n",
       "  <thead>\n",
       "    <tr style=\"text-align: right;\">\n",
       "      <th></th>\n",
       "      <th>Subscription Type</th>\n",
       "      <th>Monthly Revenue</th>\n",
       "    </tr>\n",
       "  </thead>\n",
       "  <tbody>\n",
       "    <tr>\n",
       "      <th>0</th>\n",
       "      <td>Basic</td>\n",
       "      <td>12469</td>\n",
       "    </tr>\n",
       "    <tr>\n",
       "      <th>1</th>\n",
       "      <td>Premium</td>\n",
       "      <td>9229</td>\n",
       "    </tr>\n",
       "    <tr>\n",
       "      <th>2</th>\n",
       "      <td>Standard</td>\n",
       "      <td>9573</td>\n",
       "    </tr>\n",
       "  </tbody>\n",
       "</table>\n",
       "</div>"
      ],
      "text/plain": [
       "  Subscription Type  Monthly Revenue\n",
       "0             Basic            12469\n",
       "1           Premium             9229\n",
       "2          Standard             9573"
      ]
     },
     "execution_count": 18,
     "metadata": {},
     "output_type": "execute_result"
    }
   ],
   "source": [
    "revenue_distribution = netflix_df.groupby(['Subscription Type']).agg({'Monthly Revenue': 'sum'})\n",
    "revenue_distribution=revenue_distribution.reset_index()\n",
    "revenue_distribution"
   ]
  },
  {
   "cell_type": "code",
   "execution_count": 19,
   "id": "d5e8f87b",
   "metadata": {},
   "outputs": [],
   "source": [
    "subscription_types = revenue_distribution['Subscription Type'].unique().tolist()\n",
    "monthly_revenue = revenue_distribution['Monthly Revenue']"
   ]
  },
  {
   "cell_type": "code",
   "execution_count": 31,
   "id": "2a2dea95",
   "metadata": {},
   "outputs": [
    {
     "data": {
      "image/png": "[encoded data removed]",
      "text/plain": [
       "<Figure size 720x432 with 1 Axes>"
      ]
     },
     "metadata": {
      "needs_background": "light"
     },
     "output_type": "display_data"
    }
   ],
   "source": [
    "fig, ax = plt.subplots(figsize=(10, 6))\n",
    "bars = ax.bar(subscription_types, monthly_revenue, tick_label=subscription_types, width=0.6)\n",
    "\n",
    "for bar in bars:\n",
    "    height = bar.get_height()\n",
    "    ax.text(bar.get_x() + bar.get_width() / 2, height, str(height), ha='center', va='bottom')\n",
    "\n",
    "plt.xlabel('Monthly Revenue')\n",
    "plt.ylabel('Subcription Type')\n",
    "plt.title('Monthly Revenue by Subscription Type')\n",
    "plt.tight_layout()\n",
    "plt.show()"
   ]
  },
  {
   "cell_type": "markdown",
   "id": "9e5f7dae",
   "metadata": {},
   "source": [
    "# What is the average duration between a user joining Netflix and making their last payment?"
   ]
  },
  {
   "cell_type": "code",
   "execution_count": 34,
   "id": "8219640a",
   "metadata": {},
   "outputs": [],
   "source": [
    "netflix_df['Duration']=netflix_df['Last Payment Date'].sub(netflix_df['Join Date'],axis=0)"
   ]
  },
  {
   "cell_type": "code",
   "execution_count": 43,
   "id": "bf9fa564",
   "metadata": {},
   "outputs": [
    {
     "data": {
      "text/plain": [
       "'326 days 02:26:52.800000'"
      ]
     },
     "execution_count": 43,
     "metadata": {},
     "output_type": "execute_result"
    }
   ],
   "source": [
    "str(netflix_df['Duration'].describe()['mean'])"
   ]
  },
  {
   "cell_type": "markdown",
   "id": "9bdc229d",
   "metadata": {},
   "source": [
    "# Are there any correlations between the user's device type and their subscription type?"
   ]
  },
  {
   "cell_type": "markdown",
   "id": "fcf7d6d9",
   "metadata": {},
   "source": [
    "The chi-square test is used to determine if there is a significant association between two categorical variables. It compares the observed frequencies in a contingency table to the expected frequencies under the assumption of independence."
   ]
  },
  {
   "cell_type": "code",
   "execution_count": 50,
   "id": "abd31ec3",
   "metadata": {},
   "outputs": [],
   "source": [
    "from scipy.stats import chi2_contingency"
   ]
  },
  {
   "cell_type": "code",
   "execution_count": 76,
   "id": "72961202",
   "metadata": {},
   "outputs": [
    {
     "data": {
      "text/html": [
       "<div>\n",
       "<style scoped>\n",
       "    .dataframe tbody tr th:only-of-type {\n",
       "        vertical-align: middle;\n",
       "    }\n",
       "\n",
       "    .dataframe tbody tr th {\n",
       "        vertical-align: top;\n",
       "    }\n",
       "\n",
       "    .dataframe thead th {\n",
       "        text-align: right;\n",
       "    }\n",
       "</style>\n",
       "<table border=\"1\" class=\"dataframe\">\n",
       "  <thead>\n",
       "    <tr style=\"text-align: right;\">\n",
       "      <th>Device</th>\n",
       "      <th>Subscription Type</th>\n",
       "      <th>Laptop</th>\n",
       "      <th>Smart TV</th>\n",
       "      <th>Smartphone</th>\n",
       "      <th>Tablet</th>\n",
       "    </tr>\n",
       "  </thead>\n",
       "  <tbody>\n",
       "    <tr>\n",
       "      <th>0</th>\n",
       "      <td>Basic</td>\n",
       "      <td>259</td>\n",
       "      <td>238</td>\n",
       "      <td>251</td>\n",
       "      <td>251</td>\n",
       "    </tr>\n",
       "    <tr>\n",
       "      <th>1</th>\n",
       "      <td>Premium</td>\n",
       "      <td>192</td>\n",
       "      <td>188</td>\n",
       "      <td>171</td>\n",
       "      <td>182</td>\n",
       "    </tr>\n",
       "    <tr>\n",
       "      <th>2</th>\n",
       "      <td>Standard</td>\n",
       "      <td>185</td>\n",
       "      <td>184</td>\n",
       "      <td>199</td>\n",
       "      <td>200</td>\n",
       "    </tr>\n",
       "  </tbody>\n",
       "</table>\n",
       "</div>"
      ],
      "text/plain": [
       "Device Subscription Type  Laptop  Smart TV  Smartphone  Tablet\n",
       "0                  Basic     259       238         251     251\n",
       "1                Premium     192       188         171     182\n",
       "2               Standard     185       184         199     200"
      ]
     },
     "execution_count": 76,
     "metadata": {},
     "output_type": "execute_result"
    }
   ],
   "source": [
    "correlation_df = netflix_df.groupby(['Subscription Type','Device']).size().unstack(fill_value=0)\n",
    "correlation_df.reset_index(inplace=True)\n",
    "correlation_df"
   ]
  },
  {
   "cell_type": "code",
   "execution_count": 84,
   "id": "b2ece080",
   "metadata": {},
   "outputs": [],
   "source": [
    "cols =['Laptop','Smart TV','Smartphone','Tablet']\n",
    "contingency_table = correlation_df[cols].values.tolist()"
   ]
  },
  {
   "cell_type": "code",
   "execution_count": 85,
   "id": "e7b2eb8c",
   "metadata": {},
   "outputs": [
    {
     "name": "stdout",
     "output_type": "stream",
     "text": [
      "Chi-square statistic: 2.7771773735944496\n",
      "p-value: 0.8362486599023569\n"
     ]
    }
   ],
   "source": [
    "# Perform chi-square test\n",
    "chi2, p, dof, expected = chi2_contingency(contingency_table)\n",
    "\n",
    "print(\"Chi-square statistic:\", chi2)\n",
    "print(\"p-value:\", p)"
   ]
  },
  {
   "cell_type": "markdown",
   "id": "e1391e00",
   "metadata": {},
   "source": [
    "The p-value of 0.8362486599023569 is much higher than the significance level of 0.05. This means that the observed association between device type and subscription type is not statistically significant at the 0.05 level. In other words, the data does not provide strong evidence to conclude that there is a significant association between these variables."
   ]
  },
  {
   "cell_type": "markdown",
   "id": "797fe3eb",
   "metadata": {},
   "source": [
    "# Which country has the highest number of Netflix users in the dataset"
   ]
  },
  {
   "cell_type": "code",
   "execution_count": 102,
   "id": "a9db9ffe",
   "metadata": {},
   "outputs": [],
   "source": [
    "highest_users_country_df = netflix_df.groupby(['Country']).agg({'User ID':'nunique'})\n",
    "highest_users_country_df.reset_index(inplace=True)\n",
    "highest_users_country_df.rename(columns={'User ID':'Total Users'} ,inplace=True)\n",
    "highest_users_country_df.sort_values(by='Total Users', ascending=False,inplace=True)"
   ]
  },
  {
   "cell_type": "code",
   "execution_count": 103,
   "id": "2da2c05c",
   "metadata": {},
   "outputs": [
    {
     "data": {
      "image/png": "[encoded data removed]",
      "text/plain": [
       "<Figure size 720x432 with 1 Axes>"
      ]
     },
     "metadata": {
      "needs_background": "light"
     },
     "output_type": "display_data"
    }
   ],
   "source": [
    "country_bars=highest_users_country_df['Country'].unique().tolist()\n",
    "total_users_bars=highest_users_country_df['Total Users'].tolist()\n",
    "fig, ax = plt.subplots(figsize=(10, 6))\n",
    "\n",
    "bars=ax.bar(country_bars,total_users_bars,tick_label=country_bars, width=0.6)\n",
    "\n",
    "for bar in bars:\n",
    "    height = bar.get_height()\n",
    "    ax.text(bar.get_x() + bar.get_width() / 2, height, str(height), ha='center', va='bottom')\n",
    "plt.xlabel('Country')\n",
    "plt.ylabel('Total Users')\n",
    "plt.title('Total Users by Country')\n",
    "plt.tight_layout()\n",
    "plt.show()"
   ]
  },
  {
   "cell_type": "code",
   "execution_count": null,
   "id": "61df0cad",
   "metadata": {},
   "outputs": [],
   "source": []
  },
  {
   "cell_type": "code",
   "execution_count": null,
   "id": "485494de",
   "metadata": {},
   "outputs": [],
   "source": []
  },
  {
   "cell_type": "code",
   "execution_count": null,
   "id": "5ff6c2ff",
   "metadata": {},
   "outputs": [],
   "source": []
  }
 ],
 "metadata": {
  "kernelspec": {
   "display_name": "Python 3",
   "language": "python",
   "name": "python3"
  },
  "language_info": {
   "codemirror_mode": {
    "name": "ipython",
    "version": 3
   },
   "file_extension": ".py",
   "mimetype": "text/x-python",
   "name": "python",
   "nbconvert_exporter": "python",
   "pygments_lexer": "ipython3",
   "version": "3.8.8"
  }
 },
 "nbformat": 4,
 "nbformat_minor": 5
}
