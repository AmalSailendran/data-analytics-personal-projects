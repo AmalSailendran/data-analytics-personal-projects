{
 "cells": [
  {
   "cell_type": "code",
   "execution_count": 1,
   "id": "1e8a7281",
   "metadata": {},
   "outputs": [],
   "source": [
    "import pandas as pd\n",
    "import numpy as np\n",
    "import matplotlib.pyplot as plt\n",
    "import seaborn as sns"
   ]
  },
  {
   "cell_type": "code",
   "execution_count": 2,
   "id": "0aef1bd5",
   "metadata": {},
   "outputs": [
    {
     "data": {
      "text/html": [
       "<div>\n",
       "<style scoped>\n",
       "    .dataframe tbody tr th:only-of-type {\n",
       "        vertical-align: middle;\n",
       "    }\n",
       "\n",
       "    .dataframe tbody tr th {\n",
       "        vertical-align: top;\n",
       "    }\n",
       "\n",
       "    .dataframe thead th {\n",
       "        text-align: right;\n",
       "    }\n",
       "</style>\n",
       "<table border=\"1\" class=\"dataframe\">\n",
       "  <thead>\n",
       "    <tr style=\"text-align: right;\">\n",
       "      <th></th>\n",
       "      <th>data_dte</th>\n",
       "      <th>Year</th>\n",
       "      <th>Month</th>\n",
       "      <th>usg_apt_id</th>\n",
       "      <th>usg_apt</th>\n",
       "      <th>usg_wac</th>\n",
       "      <th>fg_apt_id</th>\n",
       "      <th>fg_apt</th>\n",
       "      <th>fg_wac</th>\n",
       "      <th>airlineid</th>\n",
       "      <th>carrier</th>\n",
       "      <th>carriergroup</th>\n",
       "      <th>type</th>\n",
       "      <th>Scheduled</th>\n",
       "      <th>Charter</th>\n",
       "      <th>Total</th>\n",
       "    </tr>\n",
       "  </thead>\n",
       "  <tbody>\n",
       "    <tr>\n",
       "      <th>0</th>\n",
       "      <td>05/01/2006</td>\n",
       "      <td>2006</td>\n",
       "      <td>5</td>\n",
       "      <td>12016</td>\n",
       "      <td>GUM</td>\n",
       "      <td>5</td>\n",
       "      <td>13162</td>\n",
       "      <td>MAJ</td>\n",
       "      <td>844</td>\n",
       "      <td>20177</td>\n",
       "      <td>PFQ</td>\n",
       "      <td>1</td>\n",
       "      <td>Departures</td>\n",
       "      <td>0</td>\n",
       "      <td>10</td>\n",
       "      <td>10</td>\n",
       "    </tr>\n",
       "    <tr>\n",
       "      <th>1</th>\n",
       "      <td>05/01/2003</td>\n",
       "      <td>2003</td>\n",
       "      <td>5</td>\n",
       "      <td>10299</td>\n",
       "      <td>ANC</td>\n",
       "      <td>1</td>\n",
       "      <td>13856</td>\n",
       "      <td>OKO</td>\n",
       "      <td>736</td>\n",
       "      <td>20007</td>\n",
       "      <td>5Y</td>\n",
       "      <td>1</td>\n",
       "      <td>Departures</td>\n",
       "      <td>0</td>\n",
       "      <td>15</td>\n",
       "      <td>15</td>\n",
       "    </tr>\n",
       "    <tr>\n",
       "      <th>2</th>\n",
       "      <td>03/01/2007</td>\n",
       "      <td>2007</td>\n",
       "      <td>3</td>\n",
       "      <td>10721</td>\n",
       "      <td>BOS</td>\n",
       "      <td>13</td>\n",
       "      <td>12651</td>\n",
       "      <td>KEF</td>\n",
       "      <td>439</td>\n",
       "      <td>20402</td>\n",
       "      <td>GL</td>\n",
       "      <td>1</td>\n",
       "      <td>Departures</td>\n",
       "      <td>0</td>\n",
       "      <td>1</td>\n",
       "      <td>1</td>\n",
       "    </tr>\n",
       "    <tr>\n",
       "      <th>3</th>\n",
       "      <td>12/01/2004</td>\n",
       "      <td>2004</td>\n",
       "      <td>12</td>\n",
       "      <td>11259</td>\n",
       "      <td>DAL</td>\n",
       "      <td>74</td>\n",
       "      <td>16271</td>\n",
       "      <td>YYZ</td>\n",
       "      <td>936</td>\n",
       "      <td>20201</td>\n",
       "      <td>AMQ</td>\n",
       "      <td>1</td>\n",
       "      <td>Departures</td>\n",
       "      <td>0</td>\n",
       "      <td>1</td>\n",
       "      <td>1</td>\n",
       "    </tr>\n",
       "    <tr>\n",
       "      <th>4</th>\n",
       "      <td>05/01/2009</td>\n",
       "      <td>2009</td>\n",
       "      <td>5</td>\n",
       "      <td>13303</td>\n",
       "      <td>MIA</td>\n",
       "      <td>33</td>\n",
       "      <td>11075</td>\n",
       "      <td>CMW</td>\n",
       "      <td>219</td>\n",
       "      <td>21323</td>\n",
       "      <td>5L</td>\n",
       "      <td>0</td>\n",
       "      <td>Departures</td>\n",
       "      <td>0</td>\n",
       "      <td>20</td>\n",
       "      <td>20</td>\n",
       "    </tr>\n",
       "  </tbody>\n",
       "</table>\n",
       "</div>"
      ],
      "text/plain": [
       "     data_dte  Year  Month  usg_apt_id usg_apt  usg_wac  fg_apt_id fg_apt  \\\n",
       "0  05/01/2006  2006      5       12016     GUM        5      13162    MAJ   \n",
       "1  05/01/2003  2003      5       10299     ANC        1      13856    OKO   \n",
       "2  03/01/2007  2007      3       10721     BOS       13      12651    KEF   \n",
       "3  12/01/2004  2004     12       11259     DAL       74      16271    YYZ   \n",
       "4  05/01/2009  2009      5       13303     MIA       33      11075    CMW   \n",
       "\n",
       "   fg_wac  airlineid carrier  carriergroup        type  Scheduled  Charter  \\\n",
       "0     844      20177     PFQ             1  Departures          0       10   \n",
       "1     736      20007      5Y             1  Departures          0       15   \n",
       "2     439      20402      GL             1  Departures          0        1   \n",
       "3     936      20201     AMQ             1  Departures          0        1   \n",
       "4     219      21323      5L             0  Departures          0       20   \n",
       "\n",
       "   Total  \n",
       "0     10  \n",
       "1     15  \n",
       "2      1  \n",
       "3      1  \n",
       "4     20  "
      ]
     },
     "execution_count": 2,
     "metadata": {},
     "output_type": "execute_result"
    }
   ],
   "source": [
    "international_report_departures = pd.read_csv(\"International_Report_Departures.csv\")\n",
    "international_report_departures.head()"
   ]
  },
  {
   "cell_type": "markdown",
   "id": "8feab28c",
   "metadata": {},
   "source": [
    "Column Name   |  Description                                              |  Type\n",
    "--------------|-----------------------------------------------------------|--------\n",
    "data_dte      |  Data Date                                                |  Date & Time\n",
    "Year          |  Data Year                                                |  Number\n",
    "Month         |  Data Month                                               |  Number\n",
    "usg_apt_id    |  US Gateway Airport ID - assigned by US DOT to identify an airport  |  Number\n",
    "usg_apt       |  US Gateway Airport Code - usually assigned by IATA, but in absence of IATA designation, may show FAA-assigned code  |  Plain Text\n",
    "usg_wac       |  US Gateway World Area Code - assigned by US DOT to represent a geographic territory  |  Number\n",
    "fg_apt_id     |  Foreign Gateway Airport ID - assigned by US DOT to identify an airport  |  Number\n",
    "fg_apt        |  Foreign Gateway Airport Code - usually assigned by IATA, but in absence of IATA designation, may show FAA-assigned code  |  Plain Text\n",
    "fg_wac        |  Foreign Gateway World Area Code - assigned by US DOT to represent a geographic territory  |  Number\n",
    "airlineid     |  Airline ID - assigned by US DOT to identify an air carrier  |  Number\n",
    "carrier       |  IATA-assigned air carrier code. If carrier has no IATA code, ICAO- or FAA-assigned code may be used  |  Plain Text\n",
    "carriergroup  |  Carrier Group Code - 1 denotes US domestic air carriers, 0 denotes foreign air carriers  |  Number\n",
    "type          |  Defines the type of the four metrics in this report      |  Plain Text\n",
    "Scheduled     |  Metric flown by scheduled service operations              |  Number\n",
    "Charter       |  Metric flown by charter operations                        |  Number\n",
    "Total         |  Total Metric flown by scheduled service and charter operations  |  Number\n"
   ]
  },
  {
   "cell_type": "code",
   "execution_count": 3,
   "id": "94bc9a3a",
   "metadata": {},
   "outputs": [
    {
     "data": {
      "text/plain": [
       "Index(['data_dte', 'Year', 'Month', 'usg_apt_id', 'usg_apt', 'usg_wac',\n",
       "       'fg_apt_id', 'fg_apt', 'fg_wac', 'airlineid', 'carrier', 'carriergroup',\n",
       "       'type', 'Scheduled', 'Charter', 'Total'],\n",
       "      dtype='object')"
      ]
     },
     "execution_count": 3,
     "metadata": {},
     "output_type": "execute_result"
    }
   ],
   "source": [
    "international_report_departures.columns"
   ]
  },
  {
   "cell_type": "code",
   "execution_count": 4,
   "id": "df6408b2",
   "metadata": {},
   "outputs": [
    {
     "data": {
      "text/plain": [
       "data_dte        object\n",
       "Year             int64\n",
       "Month            int64\n",
       "usg_apt_id       int64\n",
       "usg_apt         object\n",
       "usg_wac          int64\n",
       "fg_apt_id        int64\n",
       "fg_apt          object\n",
       "fg_wac           int64\n",
       "airlineid        int64\n",
       "carrier         object\n",
       "carriergroup     int64\n",
       "type            object\n",
       "Scheduled        int64\n",
       "Charter          int64\n",
       "Total            int64\n",
       "dtype: object"
      ]
     },
     "execution_count": 4,
     "metadata": {},
     "output_type": "execute_result"
    }
   ],
   "source": [
    "international_report_departures.dtypes"
   ]
  },
  {
   "cell_type": "code",
   "execution_count": 5,
   "id": "6699ed78",
   "metadata": {},
   "outputs": [],
   "source": [
    "international_report_departures['data_dte']=pd.to_datetime(international_report_departures['data_dte']) "
   ]
  },
  {
   "cell_type": "markdown",
   "id": "4fd6592d",
   "metadata": {},
   "source": [
    "Column Name | Description                                                | Type\n",
    "------------|------------------------------------------------------------|------\n",
    "data_dte    | Data Date                                                  | Date & Time\n",
    "Year        | Data Year                                                  | Number\n",
    "Month       | Data Month                                                 | Number\n",
    "usg_apt_id  | US Gateway Airport ID - assigned by US DOT to identify an airport | Number\n",
    "usg_apt     | US Gateway Airport Code - usually assigned by IATA, but in absence of IATA designation, may show FAA-assigned code | Plain Text\n",
    "usg_wac     | US Gateway World Area Code - assigned by US DOT to represent a geographic territory | Number\n",
    "fg_apt_id   | Foreign Gateway Airport ID - assigned by US DOT to identify an airport | Number\n",
    "fg_apt      | Foreign Gateway Airport Code - usually assigned by IATA, but in absence of IATA designation, may show FAA-assigned code | Plain Text\n",
    "fg_wac      | Foreign Gateway World Area Code - assigned by US DOT to represent a geographic territory | Number\n",
    "airlineid   | Airline ID - assigned by US DOT to identify an air carrier | Number\n",
    "carrier     | IATA-assigned air carrier code. If carrier has no IATA code, ICAO- or FAA-assigned code may be used | Plain Text\n",
    "carriergroup| Carrier Group Code - 1 denotes US domestic air carriers, 0 denotes foreign air carriers | Number\n",
    "type        | Defines the type of the four metrics in this report         | Plain Text\n",
    "Scheduled   | Metric flown by scheduled service operations                | Number\n",
    "Charter     | Metric flown by charter operations                          | Number\n",
    "Total       | Total Metric flown by scheduled service and charter operations | Number\n"
   ]
  },
  {
   "cell_type": "code",
   "execution_count": 6,
   "id": "67188e4c",
   "metadata": {
    "scrolled": true
   },
   "outputs": [
    {
     "data": {
      "text/plain": [
       "(930808, 16)"
      ]
     },
     "execution_count": 6,
     "metadata": {},
     "output_type": "execute_result"
    }
   ],
   "source": [
    "international_report_departures.shape"
   ]
  },
  {
   "cell_type": "code",
   "execution_count": 7,
   "id": "f79f51f8",
   "metadata": {
    "scrolled": true
   },
   "outputs": [
    {
     "name": "stdout",
     "output_type": "stream",
     "text": [
      "<class 'pandas.core.frame.DataFrame'>\n",
      "RangeIndex: 930808 entries, 0 to 930807\n",
      "Data columns (total 16 columns):\n",
      " #   Column        Non-Null Count   Dtype         \n",
      "---  ------        --------------   -----         \n",
      " 0   data_dte      930808 non-null  datetime64[ns]\n",
      " 1   Year          930808 non-null  int64         \n",
      " 2   Month         930808 non-null  int64         \n",
      " 3   usg_apt_id    930808 non-null  int64         \n",
      " 4   usg_apt       930808 non-null  object        \n",
      " 5   usg_wac       930808 non-null  int64         \n",
      " 6   fg_apt_id     930808 non-null  int64         \n",
      " 7   fg_apt        930808 non-null  object        \n",
      " 8   fg_wac        930808 non-null  int64         \n",
      " 9   airlineid     930808 non-null  int64         \n",
      " 10  carrier       927753 non-null  object        \n",
      " 11  carriergroup  930808 non-null  int64         \n",
      " 12  type          930808 non-null  object        \n",
      " 13  Scheduled     930808 non-null  int64         \n",
      " 14  Charter       930808 non-null  int64         \n",
      " 15  Total         930808 non-null  int64         \n",
      "dtypes: datetime64[ns](1), int64(11), object(4)\n",
      "memory usage: 113.6+ MB\n"
     ]
    }
   ],
   "source": [
    "international_report_departures.info()"
   ]
  },
  {
   "cell_type": "code",
   "execution_count": 8,
   "id": "d858faa7",
   "metadata": {},
   "outputs": [
    {
     "data": {
      "text/html": [
       "<div>\n",
       "<style scoped>\n",
       "    .dataframe tbody tr th:only-of-type {\n",
       "        vertical-align: middle;\n",
       "    }\n",
       "\n",
       "    .dataframe tbody tr th {\n",
       "        vertical-align: top;\n",
       "    }\n",
       "\n",
       "    .dataframe thead th {\n",
       "        text-align: right;\n",
       "    }\n",
       "</style>\n",
       "<table border=\"1\" class=\"dataframe\">\n",
       "  <thead>\n",
       "    <tr style=\"text-align: right;\">\n",
       "      <th></th>\n",
       "      <th>Year</th>\n",
       "      <th>Month</th>\n",
       "      <th>usg_apt_id</th>\n",
       "      <th>usg_wac</th>\n",
       "      <th>fg_apt_id</th>\n",
       "      <th>fg_wac</th>\n",
       "      <th>airlineid</th>\n",
       "      <th>carriergroup</th>\n",
       "      <th>Scheduled</th>\n",
       "      <th>Charter</th>\n",
       "      <th>Total</th>\n",
       "    </tr>\n",
       "  </thead>\n",
       "  <tbody>\n",
       "    <tr>\n",
       "      <th>count</th>\n",
       "      <td>930808.000000</td>\n",
       "      <td>930808.000000</td>\n",
       "      <td>930808.000000</td>\n",
       "      <td>930808.000000</td>\n",
       "      <td>930808.000000</td>\n",
       "      <td>930808.000000</td>\n",
       "      <td>930808.000000</td>\n",
       "      <td>930808.000000</td>\n",
       "      <td>930808.000000</td>\n",
       "      <td>930808.000000</td>\n",
       "      <td>930808.000000</td>\n",
       "    </tr>\n",
       "    <tr>\n",
       "      <th>mean</th>\n",
       "      <td>2006.021361</td>\n",
       "      <td>6.414783</td>\n",
       "      <td>12809.473781</td>\n",
       "      <td>42.511740</td>\n",
       "      <td>13484.676238</td>\n",
       "      <td>466.910479</td>\n",
       "      <td>20057.217505</td>\n",
       "      <td>0.599361</td>\n",
       "      <td>40.003181</td>\n",
       "      <td>2.005483</td>\n",
       "      <td>42.008665</td>\n",
       "    </tr>\n",
       "    <tr>\n",
       "      <th>std</th>\n",
       "      <td>8.558831</td>\n",
       "      <td>3.471070</td>\n",
       "      <td>2716.223845</td>\n",
       "      <td>27.571338</td>\n",
       "      <td>1932.601107</td>\n",
       "      <td>288.005971</td>\n",
       "      <td>479.071456</td>\n",
       "      <td>0.490028</td>\n",
       "      <td>60.948973</td>\n",
       "      <td>8.278403</td>\n",
       "      <td>60.340835</td>\n",
       "    </tr>\n",
       "    <tr>\n",
       "      <th>min</th>\n",
       "      <td>1990.000000</td>\n",
       "      <td>1.000000</td>\n",
       "      <td>10010.000000</td>\n",
       "      <td>1.000000</td>\n",
       "      <td>10119.000000</td>\n",
       "      <td>106.000000</td>\n",
       "      <td>19386.000000</td>\n",
       "      <td>0.000000</td>\n",
       "      <td>0.000000</td>\n",
       "      <td>0.000000</td>\n",
       "      <td>1.000000</td>\n",
       "    </tr>\n",
       "    <tr>\n",
       "      <th>25%</th>\n",
       "      <td>1999.000000</td>\n",
       "      <td>3.000000</td>\n",
       "      <td>11618.000000</td>\n",
       "      <td>22.000000</td>\n",
       "      <td>11868.000000</td>\n",
       "      <td>205.000000</td>\n",
       "      <td>19704.000000</td>\n",
       "      <td>0.000000</td>\n",
       "      <td>0.000000</td>\n",
       "      <td>0.000000</td>\n",
       "      <td>3.000000</td>\n",
       "    </tr>\n",
       "    <tr>\n",
       "      <th>50%</th>\n",
       "      <td>2007.000000</td>\n",
       "      <td>6.000000</td>\n",
       "      <td>12892.000000</td>\n",
       "      <td>33.000000</td>\n",
       "      <td>13408.000000</td>\n",
       "      <td>427.000000</td>\n",
       "      <td>19991.000000</td>\n",
       "      <td>1.000000</td>\n",
       "      <td>17.000000</td>\n",
       "      <td>0.000000</td>\n",
       "      <td>20.000000</td>\n",
       "    </tr>\n",
       "    <tr>\n",
       "      <th>75%</th>\n",
       "      <td>2014.000000</td>\n",
       "      <td>9.000000</td>\n",
       "      <td>13487.000000</td>\n",
       "      <td>72.000000</td>\n",
       "      <td>15084.000000</td>\n",
       "      <td>736.000000</td>\n",
       "      <td>20312.000000</td>\n",
       "      <td>1.000000</td>\n",
       "      <td>60.000000</td>\n",
       "      <td>1.000000</td>\n",
       "      <td>60.000000</td>\n",
       "    </tr>\n",
       "    <tr>\n",
       "      <th>max</th>\n",
       "      <td>2020.000000</td>\n",
       "      <td>12.000000</td>\n",
       "      <td>99999.000000</td>\n",
       "      <td>93.000000</td>\n",
       "      <td>16881.000000</td>\n",
       "      <td>975.000000</td>\n",
       "      <td>22067.000000</td>\n",
       "      <td>1.000000</td>\n",
       "      <td>2019.000000</td>\n",
       "      <td>1092.000000</td>\n",
       "      <td>2019.000000</td>\n",
       "    </tr>\n",
       "  </tbody>\n",
       "</table>\n",
       "</div>"
      ],
      "text/plain": [
       "                Year          Month     usg_apt_id        usg_wac  \\\n",
       "count  930808.000000  930808.000000  930808.000000  930808.000000   \n",
       "mean     2006.021361       6.414783   12809.473781      42.511740   \n",
       "std         8.558831       3.471070    2716.223845      27.571338   \n",
       "min      1990.000000       1.000000   10010.000000       1.000000   \n",
       "25%      1999.000000       3.000000   11618.000000      22.000000   \n",
       "50%      2007.000000       6.000000   12892.000000      33.000000   \n",
       "75%      2014.000000       9.000000   13487.000000      72.000000   \n",
       "max      2020.000000      12.000000   99999.000000      93.000000   \n",
       "\n",
       "           fg_apt_id         fg_wac      airlineid   carriergroup  \\\n",
       "count  930808.000000  930808.000000  930808.000000  930808.000000   \n",
       "mean    13484.676238     466.910479   20057.217505       0.599361   \n",
       "std      1932.601107     288.005971     479.071456       0.490028   \n",
       "min     10119.000000     106.000000   19386.000000       0.000000   \n",
       "25%     11868.000000     205.000000   19704.000000       0.000000   \n",
       "50%     13408.000000     427.000000   19991.000000       1.000000   \n",
       "75%     15084.000000     736.000000   20312.000000       1.000000   \n",
       "max     16881.000000     975.000000   22067.000000       1.000000   \n",
       "\n",
       "           Scheduled        Charter          Total  \n",
       "count  930808.000000  930808.000000  930808.000000  \n",
       "mean       40.003181       2.005483      42.008665  \n",
       "std        60.948973       8.278403      60.340835  \n",
       "min         0.000000       0.000000       1.000000  \n",
       "25%         0.000000       0.000000       3.000000  \n",
       "50%        17.000000       0.000000      20.000000  \n",
       "75%        60.000000       1.000000      60.000000  \n",
       "max      2019.000000    1092.000000    2019.000000  "
      ]
     },
     "execution_count": 8,
     "metadata": {},
     "output_type": "execute_result"
    }
   ],
   "source": [
    "international_report_departures.describe()"
   ]
  },
  {
   "cell_type": "code",
   "execution_count": 9,
   "id": "5ba864d8",
   "metadata": {},
   "outputs": [
    {
     "data": {
      "text/html": [
       "<div>\n",
       "<style scoped>\n",
       "    .dataframe tbody tr th:only-of-type {\n",
       "        vertical-align: middle;\n",
       "    }\n",
       "\n",
       "    .dataframe tbody tr th {\n",
       "        vertical-align: top;\n",
       "    }\n",
       "\n",
       "    .dataframe thead th {\n",
       "        text-align: right;\n",
       "    }\n",
       "</style>\n",
       "<table border=\"1\" class=\"dataframe\">\n",
       "  <thead>\n",
       "    <tr style=\"text-align: right;\">\n",
       "      <th></th>\n",
       "      <th>data_dte</th>\n",
       "      <th>Year</th>\n",
       "      <th>Month</th>\n",
       "      <th>usg_apt_id</th>\n",
       "      <th>usg_apt</th>\n",
       "      <th>usg_wac</th>\n",
       "      <th>fg_apt_id</th>\n",
       "      <th>fg_apt</th>\n",
       "      <th>fg_wac</th>\n",
       "      <th>airlineid</th>\n",
       "      <th>carrier</th>\n",
       "      <th>carriergroup</th>\n",
       "      <th>type</th>\n",
       "      <th>Scheduled</th>\n",
       "      <th>Charter</th>\n",
       "      <th>Total</th>\n",
       "    </tr>\n",
       "  </thead>\n",
       "  <tbody>\n",
       "    <tr>\n",
       "      <th>0</th>\n",
       "      <td>05/01/2014</td>\n",
       "      <td>2014</td>\n",
       "      <td>5</td>\n",
       "      <td>14492</td>\n",
       "      <td>RDU</td>\n",
       "      <td>36</td>\n",
       "      <td>11032</td>\n",
       "      <td>CUN</td>\n",
       "      <td>148</td>\n",
       "      <td>19534</td>\n",
       "      <td>AM</td>\n",
       "      <td>0</td>\n",
       "      <td>Passengers</td>\n",
       "      <td>0</td>\n",
       "      <td>315</td>\n",
       "      <td>315</td>\n",
       "    </tr>\n",
       "    <tr>\n",
       "      <th>1</th>\n",
       "      <td>06/01/2007</td>\n",
       "      <td>2007</td>\n",
       "      <td>6</td>\n",
       "      <td>13204</td>\n",
       "      <td>MCO</td>\n",
       "      <td>33</td>\n",
       "      <td>16085</td>\n",
       "      <td>YHZ</td>\n",
       "      <td>951</td>\n",
       "      <td>20364</td>\n",
       "      <td>C6</td>\n",
       "      <td>0</td>\n",
       "      <td>Passengers</td>\n",
       "      <td>0</td>\n",
       "      <td>683</td>\n",
       "      <td>683</td>\n",
       "    </tr>\n",
       "    <tr>\n",
       "      <th>2</th>\n",
       "      <td>12/01/2005</td>\n",
       "      <td>2005</td>\n",
       "      <td>12</td>\n",
       "      <td>11433</td>\n",
       "      <td>DTW</td>\n",
       "      <td>43</td>\n",
       "      <td>10411</td>\n",
       "      <td>AUA</td>\n",
       "      <td>277</td>\n",
       "      <td>20344</td>\n",
       "      <td>RD</td>\n",
       "      <td>1</td>\n",
       "      <td>Passengers</td>\n",
       "      <td>0</td>\n",
       "      <td>1010</td>\n",
       "      <td>1010</td>\n",
       "    </tr>\n",
       "    <tr>\n",
       "      <th>3</th>\n",
       "      <td>04/01/2003</td>\n",
       "      <td>2003</td>\n",
       "      <td>4</td>\n",
       "      <td>13487</td>\n",
       "      <td>MSP</td>\n",
       "      <td>63</td>\n",
       "      <td>16304</td>\n",
       "      <td>ZIH</td>\n",
       "      <td>148</td>\n",
       "      <td>20204</td>\n",
       "      <td>MG</td>\n",
       "      <td>1</td>\n",
       "      <td>Passengers</td>\n",
       "      <td>0</td>\n",
       "      <td>508</td>\n",
       "      <td>508</td>\n",
       "    </tr>\n",
       "    <tr>\n",
       "      <th>4</th>\n",
       "      <td>12/01/2005</td>\n",
       "      <td>2005</td>\n",
       "      <td>12</td>\n",
       "      <td>12016</td>\n",
       "      <td>GUM</td>\n",
       "      <td>5</td>\n",
       "      <td>11138</td>\n",
       "      <td>CRK</td>\n",
       "      <td>766</td>\n",
       "      <td>20312</td>\n",
       "      <td>TZ</td>\n",
       "      <td>1</td>\n",
       "      <td>Passengers</td>\n",
       "      <td>0</td>\n",
       "      <td>76</td>\n",
       "      <td>76</td>\n",
       "    </tr>\n",
       "  </tbody>\n",
       "</table>\n",
       "</div>"
      ],
      "text/plain": [
       "     data_dte  Year  Month  usg_apt_id usg_apt  usg_wac  fg_apt_id fg_apt  \\\n",
       "0  05/01/2014  2014      5       14492     RDU       36      11032    CUN   \n",
       "1  06/01/2007  2007      6       13204     MCO       33      16085    YHZ   \n",
       "2  12/01/2005  2005     12       11433     DTW       43      10411    AUA   \n",
       "3  04/01/2003  2003      4       13487     MSP       63      16304    ZIH   \n",
       "4  12/01/2005  2005     12       12016     GUM        5      11138    CRK   \n",
       "\n",
       "   fg_wac  airlineid carrier  carriergroup        type  Scheduled  Charter  \\\n",
       "0     148      19534      AM             0  Passengers          0      315   \n",
       "1     951      20364      C6             0  Passengers          0      683   \n",
       "2     277      20344      RD             1  Passengers          0     1010   \n",
       "3     148      20204      MG             1  Passengers          0      508   \n",
       "4     766      20312      TZ             1  Passengers          0       76   \n",
       "\n",
       "   Total  \n",
       "0    315  \n",
       "1    683  \n",
       "2   1010  \n",
       "3    508  \n",
       "4     76  "
      ]
     },
     "execution_count": 9,
     "metadata": {},
     "output_type": "execute_result"
    }
   ],
   "source": [
    "international_report_passengers = pd.read_csv(\"International_Report_Passengers.csv\")\n",
    "international_report_passengers.head()"
   ]
  },
  {
   "cell_type": "code",
   "execution_count": 10,
   "id": "afe2e831",
   "metadata": {},
   "outputs": [],
   "source": [
    "international_report_passengers['data_dte']=pd.to_datetime(international_report_passengers['data_dte']) "
   ]
  },
  {
   "cell_type": "code",
   "execution_count": 11,
   "id": "c30f8373",
   "metadata": {},
   "outputs": [
    {
     "name": "stdout",
     "output_type": "stream",
     "text": [
      "<class 'pandas.core.frame.DataFrame'>\n",
      "RangeIndex: 680985 entries, 0 to 680984\n",
      "Data columns (total 16 columns):\n",
      " #   Column        Non-Null Count   Dtype         \n",
      "---  ------        --------------   -----         \n",
      " 0   data_dte      680985 non-null  datetime64[ns]\n",
      " 1   Year          680985 non-null  int64         \n",
      " 2   Month         680985 non-null  int64         \n",
      " 3   usg_apt_id    680985 non-null  int64         \n",
      " 4   usg_apt       680985 non-null  object        \n",
      " 5   usg_wac       680985 non-null  int64         \n",
      " 6   fg_apt_id     680985 non-null  int64         \n",
      " 7   fg_apt        680985 non-null  object        \n",
      " 8   fg_wac        680985 non-null  int64         \n",
      " 9   airlineid     680985 non-null  int64         \n",
      " 10  carrier       678188 non-null  object        \n",
      " 11  carriergroup  680985 non-null  int64         \n",
      " 12  type          680985 non-null  object        \n",
      " 13  Scheduled     680985 non-null  int64         \n",
      " 14  Charter       680985 non-null  int64         \n",
      " 15  Total         680985 non-null  int64         \n",
      "dtypes: datetime64[ns](1), int64(11), object(4)\n",
      "memory usage: 83.1+ MB\n"
     ]
    }
   ],
   "source": [
    "international_report_passengers.info()"
   ]
  },
  {
   "cell_type": "code",
   "execution_count": 12,
   "id": "3b89ccd6",
   "metadata": {
    "scrolled": false
   },
   "outputs": [
    {
     "data": {
      "text/plain": [
       "data_dte        datetime64[ns]\n",
       "Year                     int64\n",
       "Month                    int64\n",
       "usg_apt_id               int64\n",
       "usg_apt                 object\n",
       "usg_wac                  int64\n",
       "fg_apt_id                int64\n",
       "fg_apt                  object\n",
       "fg_wac                   int64\n",
       "airlineid                int64\n",
       "carrier                 object\n",
       "carriergroup             int64\n",
       "type                    object\n",
       "Scheduled                int64\n",
       "Charter                  int64\n",
       "Total                    int64\n",
       "dtype: object"
      ]
     },
     "execution_count": 12,
     "metadata": {},
     "output_type": "execute_result"
    }
   ],
   "source": [
    "international_report_passengers.dtypes"
   ]
  },
  {
   "cell_type": "code",
   "execution_count": 13,
   "id": "8f7f4189",
   "metadata": {
    "scrolled": true
   },
   "outputs": [
    {
     "data": {
      "text/plain": [
       "(680985, 16)"
      ]
     },
     "execution_count": 13,
     "metadata": {},
     "output_type": "execute_result"
    }
   ],
   "source": [
    "international_report_passengers.shape"
   ]
  },
  {
   "cell_type": "code",
   "execution_count": 14,
   "id": "ef7bdd43",
   "metadata": {},
   "outputs": [
    {
     "data": {
      "text/html": [
       "<div>\n",
       "<style scoped>\n",
       "    .dataframe tbody tr th:only-of-type {\n",
       "        vertical-align: middle;\n",
       "    }\n",
       "\n",
       "    .dataframe tbody tr th {\n",
       "        vertical-align: top;\n",
       "    }\n",
       "\n",
       "    .dataframe thead th {\n",
       "        text-align: right;\n",
       "    }\n",
       "</style>\n",
       "<table border=\"1\" class=\"dataframe\">\n",
       "  <thead>\n",
       "    <tr style=\"text-align: right;\">\n",
       "      <th></th>\n",
       "      <th>Year</th>\n",
       "      <th>Month</th>\n",
       "      <th>usg_apt_id</th>\n",
       "      <th>usg_wac</th>\n",
       "      <th>fg_apt_id</th>\n",
       "      <th>fg_wac</th>\n",
       "      <th>airlineid</th>\n",
       "      <th>carriergroup</th>\n",
       "      <th>Scheduled</th>\n",
       "      <th>Charter</th>\n",
       "      <th>Total</th>\n",
       "    </tr>\n",
       "  </thead>\n",
       "  <tbody>\n",
       "    <tr>\n",
       "      <th>count</th>\n",
       "      <td>680985.000000</td>\n",
       "      <td>680985.000000</td>\n",
       "      <td>680985.000000</td>\n",
       "      <td>680985.000000</td>\n",
       "      <td>680985.000000</td>\n",
       "      <td>680985.000000</td>\n",
       "      <td>680985.000000</td>\n",
       "      <td>680985.000000</td>\n",
       "      <td>680985.000000</td>\n",
       "      <td>680985.000000</td>\n",
       "      <td>680985.000000</td>\n",
       "    </tr>\n",
       "    <tr>\n",
       "      <th>mean</th>\n",
       "      <td>2006.141110</td>\n",
       "      <td>6.366576</td>\n",
       "      <td>12779.103825</td>\n",
       "      <td>44.394527</td>\n",
       "      <td>13493.331869</td>\n",
       "      <td>468.122264</td>\n",
       "      <td>20031.610461</td>\n",
       "      <td>0.562233</td>\n",
       "      <td>6478.893801</td>\n",
       "      <td>196.740288</td>\n",
       "      <td>6675.634089</td>\n",
       "    </tr>\n",
       "    <tr>\n",
       "      <th>std</th>\n",
       "      <td>8.716122</td>\n",
       "      <td>3.466745</td>\n",
       "      <td>2510.939346</td>\n",
       "      <td>28.110753</td>\n",
       "      <td>1955.917890</td>\n",
       "      <td>292.799407</td>\n",
       "      <td>510.270976</td>\n",
       "      <td>0.496112</td>\n",
       "      <td>8622.704655</td>\n",
       "      <td>954.759814</td>\n",
       "      <td>8532.400269</td>\n",
       "    </tr>\n",
       "    <tr>\n",
       "      <th>min</th>\n",
       "      <td>1990.000000</td>\n",
       "      <td>1.000000</td>\n",
       "      <td>10010.000000</td>\n",
       "      <td>1.000000</td>\n",
       "      <td>10125.000000</td>\n",
       "      <td>106.000000</td>\n",
       "      <td>19386.000000</td>\n",
       "      <td>0.000000</td>\n",
       "      <td>0.000000</td>\n",
       "      <td>0.000000</td>\n",
       "      <td>1.000000</td>\n",
       "    </tr>\n",
       "    <tr>\n",
       "      <th>25%</th>\n",
       "      <td>1999.000000</td>\n",
       "      <td>3.000000</td>\n",
       "      <td>11618.000000</td>\n",
       "      <td>22.000000</td>\n",
       "      <td>11760.000000</td>\n",
       "      <td>204.000000</td>\n",
       "      <td>19623.000000</td>\n",
       "      <td>0.000000</td>\n",
       "      <td>142.000000</td>\n",
       "      <td>0.000000</td>\n",
       "      <td>633.000000</td>\n",
       "    </tr>\n",
       "    <tr>\n",
       "      <th>50%</th>\n",
       "      <td>2007.000000</td>\n",
       "      <td>6.000000</td>\n",
       "      <td>12889.000000</td>\n",
       "      <td>33.000000</td>\n",
       "      <td>13408.000000</td>\n",
       "      <td>429.000000</td>\n",
       "      <td>19917.000000</td>\n",
       "      <td>1.000000</td>\n",
       "      <td>3561.000000</td>\n",
       "      <td>0.000000</td>\n",
       "      <td>3803.000000</td>\n",
       "    </tr>\n",
       "    <tr>\n",
       "      <th>75%</th>\n",
       "      <td>2014.000000</td>\n",
       "      <td>9.000000</td>\n",
       "      <td>13796.000000</td>\n",
       "      <td>74.000000</td>\n",
       "      <td>15092.000000</td>\n",
       "      <td>736.000000</td>\n",
       "      <td>20312.000000</td>\n",
       "      <td>1.000000</td>\n",
       "      <td>9700.000000</td>\n",
       "      <td>0.000000</td>\n",
       "      <td>9761.000000</td>\n",
       "    </tr>\n",
       "    <tr>\n",
       "      <th>max</th>\n",
       "      <td>2020.000000</td>\n",
       "      <td>12.000000</td>\n",
       "      <td>99999.000000</td>\n",
       "      <td>93.000000</td>\n",
       "      <td>16881.000000</td>\n",
       "      <td>975.000000</td>\n",
       "      <td>22067.000000</td>\n",
       "      <td>1.000000</td>\n",
       "      <td>149898.000000</td>\n",
       "      <td>58284.000000</td>\n",
       "      <td>150195.000000</td>\n",
       "    </tr>\n",
       "  </tbody>\n",
       "</table>\n",
       "</div>"
      ],
      "text/plain": [
       "                Year          Month     usg_apt_id        usg_wac  \\\n",
       "count  680985.000000  680985.000000  680985.000000  680985.000000   \n",
       "mean     2006.141110       6.366576   12779.103825      44.394527   \n",
       "std         8.716122       3.466745    2510.939346      28.110753   \n",
       "min      1990.000000       1.000000   10010.000000       1.000000   \n",
       "25%      1999.000000       3.000000   11618.000000      22.000000   \n",
       "50%      2007.000000       6.000000   12889.000000      33.000000   \n",
       "75%      2014.000000       9.000000   13796.000000      74.000000   \n",
       "max      2020.000000      12.000000   99999.000000      93.000000   \n",
       "\n",
       "           fg_apt_id         fg_wac      airlineid   carriergroup  \\\n",
       "count  680985.000000  680985.000000  680985.000000  680985.000000   \n",
       "mean    13493.331869     468.122264   20031.610461       0.562233   \n",
       "std      1955.917890     292.799407     510.270976       0.496112   \n",
       "min     10125.000000     106.000000   19386.000000       0.000000   \n",
       "25%     11760.000000     204.000000   19623.000000       0.000000   \n",
       "50%     13408.000000     429.000000   19917.000000       1.000000   \n",
       "75%     15092.000000     736.000000   20312.000000       1.000000   \n",
       "max     16881.000000     975.000000   22067.000000       1.000000   \n",
       "\n",
       "           Scheduled        Charter          Total  \n",
       "count  680985.000000  680985.000000  680985.000000  \n",
       "mean     6478.893801     196.740288    6675.634089  \n",
       "std      8622.704655     954.759814    8532.400269  \n",
       "min         0.000000       0.000000       1.000000  \n",
       "25%       142.000000       0.000000     633.000000  \n",
       "50%      3561.000000       0.000000    3803.000000  \n",
       "75%      9700.000000       0.000000    9761.000000  \n",
       "max    149898.000000   58284.000000  150195.000000  "
      ]
     },
     "execution_count": 14,
     "metadata": {},
     "output_type": "execute_result"
    }
   ],
   "source": [
    "international_report_passengers.describe()"
   ]
  },
  {
   "cell_type": "code",
   "execution_count": 15,
   "id": "8a0c7e65",
   "metadata": {},
   "outputs": [
    {
     "name": "stdout",
     "output_type": "stream",
     "text": [
      "Missing Values in Departures Dataset:\n",
      "data_dte           0\n",
      "Year               0\n",
      "Month              0\n",
      "usg_apt_id         0\n",
      "usg_apt            0\n",
      "usg_wac            0\n",
      "fg_apt_id          0\n",
      "fg_apt             0\n",
      "fg_wac             0\n",
      "airlineid          0\n",
      "carrier         3055\n",
      "carriergroup       0\n",
      "type               0\n",
      "Scheduled          0\n",
      "Charter            0\n",
      "Total              0\n",
      "dtype: int64\n",
      "\n",
      "Missing Values in Passengers Dataset:\n",
      "data_dte           0\n",
      "Year               0\n",
      "Month              0\n",
      "usg_apt_id         0\n",
      "usg_apt            0\n",
      "usg_wac            0\n",
      "fg_apt_id          0\n",
      "fg_apt             0\n",
      "fg_wac             0\n",
      "airlineid          0\n",
      "carrier         2797\n",
      "carriergroup       0\n",
      "type               0\n",
      "Scheduled          0\n",
      "Charter            0\n",
      "Total              0\n",
      "dtype: int64\n"
     ]
    }
   ],
   "source": [
    "print(\"Missing Values in Departures Dataset:\")\n",
    "print(international_report_departures.isnull().sum())\n",
    "\n",
    "print(\"\\nMissing Values in Passengers Dataset:\")\n",
    "print(international_report_passengers.isnull().sum())"
   ]
  },
  {
   "cell_type": "markdown",
   "id": "468624c9",
   "metadata": {},
   "source": [
    "| Question                                                                                            |\n",
    "|-----------------------------------------------------------------------------------------------------|\n",
    "| What is the overall trend in the total number of flights over the years?                            |\n",
    "| Which year had the highest total number of flights? Was there any specific reason for this increase? |\n",
    "| What are the top 10 busiest airports based on the total number of flights?                          |\n",
    "| Is there a difference in the number of flights between domestic and foreign carriers?               |\n",
    "| Which airline had the highest number of flights? Have there been any shifts in the dominance of airlines over the years? |\n",
    "\n"
   ]
  },
  {
   "cell_type": "markdown",
   "id": "bdbd3f29",
   "metadata": {},
   "source": [
    "# What are the top 10 busiest airports based on the total number of flights?"
   ]
  },
  {
   "cell_type": "code",
   "execution_count": 16,
   "id": "ad71497e",
   "metadata": {},
   "outputs": [
    {
     "name": "stdout",
     "output_type": "stream",
     "text": [
      "Top 10 Busiest Airports:\n",
      "usg_apt\n",
      "MIA    5016561\n",
      "JFK    3780640\n",
      "LAX    3013661\n",
      "ORD    2366023\n",
      "EWR    2042525\n",
      "IAH    2014828\n",
      "ATL    1595534\n",
      "DFW    1386314\n",
      "SFO    1350642\n",
      "SJU    1200253\n",
      "Name: Total, dtype: int64\n"
     ]
    }
   ],
   "source": [
    "Top_10_busiest_airports=international_report_departures.groupby('usg_apt')['Total'].sum().nlargest(10)\n",
    "print(\"Top 10 Busiest Airports:\")\n",
    "print(Top_10_busiest_airports)"
   ]
  },
  {
   "cell_type": "code",
   "execution_count": 17,
   "id": "bb4ca97d",
   "metadata": {},
   "outputs": [
    {
     "name": "stdout",
     "output_type": "stream",
     "text": [
      "Monthly Total of Flights:\n",
      "Month  Year\n",
      "7      2018    24314837\n",
      "       2019    24177588\n",
      "8      2019    23494045\n",
      "       2018    23370960\n",
      "7      2017    23350538\n",
      "6      2019    22981519\n",
      "8      2017    22626894\n",
      "6      2018    22612169\n",
      "7      2016    22029902\n",
      "5      2019    21241483\n",
      "Name: Total, dtype: int64\n"
     ]
    }
   ],
   "source": [
    "\n",
    "monthly_total_flights=international_report_passengers.groupby(['Month','Year'])['Total'].sum().nlargest(10)\n",
    "print(\"Monthly Total of Flights:\")\n",
    "print(monthly_total_flights)"
   ]
  },
  {
   "cell_type": "code",
   "execution_count": 18,
   "id": "abd87c79",
   "metadata": {
    "scrolled": true
   },
   "outputs": [
    {
     "data": {
      "image/png": "[encoded data removed]",
      "text/plain": [
       "<Figure size 864x432 with 1 Axes>"
      ]
     },
     "metadata": {
      "needs_background": "light"
     },
     "output_type": "display_data"
    }
   ],
   "source": [
    "# Assuming you have the data in a pandas DataFrame named 'monthly_total_flights'\n",
    "sorted_flights = monthly_total_flights.sort_index()\n",
    "\n",
    "plt.figure(figsize=(12, 6))\n",
    "plt.bar(sorted_flights.index.get_level_values('Year').astype(str) + '-' + sorted_flights.index.get_level_values('Month').astype(str), sorted_flights.values)\n",
    "plt.xlabel('Year-Month')\n",
    "plt.ylabel('Total Flights')\n",
    "plt.title('Monthly Total of Flights')\n",
    "plt.xticks(rotation=45)\n",
    "plt.show()"
   ]
  },
  {
   "cell_type": "markdown",
   "id": "19f3c5b3",
   "metadata": {},
   "source": [
    "\n",
    "# What is the overall trend in the total number of flights over the years?"
   ]
  },
  {
   "cell_type": "code",
   "execution_count": 19,
   "id": "052bd5d0",
   "metadata": {},
   "outputs": [
    {
     "name": "stdout",
     "output_type": "stream",
     "text": [
      "Yearly Total of Flights:\n",
      "Year\n",
      "1990     84425428\n",
      "1991     81771514\n",
      "1992     89642833\n",
      "1993     94140075\n",
      "1994     98550584\n",
      "1995    105521802\n",
      "1996    113248651\n",
      "1997    120323779\n",
      "1998    125299971\n",
      "1999    133208907\n",
      "2000    143711273\n",
      "2001    130612087\n",
      "2002    125464008\n",
      "2003    125808125\n",
      "2004    141373425\n",
      "2005    150109584\n",
      "2006    155014709\n",
      "2007    160847217\n",
      "2008    160600210\n",
      "2009    151139939\n",
      "2010    159804972\n",
      "2011    166461939\n",
      "2012    173773201\n",
      "2013    182444012\n",
      "2014    191919055\n",
      "2015    204946353\n",
      "2016    217451671\n",
      "2017    228961494\n",
      "2018    241413919\n",
      "2019    244063957\n",
      "2020     43951986\n",
      "Name: Total, dtype: int64\n"
     ]
    }
   ],
   "source": [
    "yearly_total_flights=international_report_passengers.groupby(['Year'])['Total'].sum()\n",
    "print(\"Yearly Total of Flights:\")\n",
    "print(yearly_total_flights)"
   ]
  },
  {
   "cell_type": "code",
   "execution_count": 20,
   "id": "c221c9b5",
   "metadata": {},
   "outputs": [
    {
     "data": {
      "image/png": "[encoded data removed]",
      "text/plain": [
       "<Figure size 864x432 with 1 Axes>"
      ]
     },
     "metadata": {
      "needs_background": "light"
     },
     "output_type": "display_data"
    }
   ],
   "source": [
    "# Assuming you have the data in a pandas DataFrame named 'monthly_total_flights'\n",
    "sorted_flights_yearly = yearly_total_flights.sort_index()\n",
    "\n",
    "plt.figure(figsize=(12, 6))\n",
    "plt.bar(sorted_flights_yearly.index.get_level_values('Year') , sorted_flights_yearly.values)\n",
    "plt.xlabel('Year')\n",
    "plt.ylabel('Total Flights')\n",
    "plt.title('Yearly Total of Flights')\n",
    "plt.xticks(rotation=45)\n",
    "plt.show()"
   ]
  },
  {
   "cell_type": "markdown",
   "id": "345e5cbc",
   "metadata": {},
   "source": [
    "# Which year had the highest total number of flights? Was there any specific reason for this increase?"
   ]
  },
  {
   "cell_type": "code",
   "execution_count": 21,
   "id": "780634ca",
   "metadata": {},
   "outputs": [],
   "source": [
    "# Find the year with the highest total number of flights\n",
    "year_with_max_flights = yearly_total_flights.idxmax()"
   ]
  },
  {
   "cell_type": "code",
   "execution_count": 22,
   "id": "578d1a12",
   "metadata": {},
   "outputs": [
    {
     "data": {
      "text/plain": [
       "2019"
      ]
     },
     "execution_count": 22,
     "metadata": {},
     "output_type": "execute_result"
    }
   ],
   "source": [
    "year_with_max_flights"
   ]
  },
  {
   "cell_type": "code",
   "execution_count": 23,
   "id": "eb5f2e23",
   "metadata": {},
   "outputs": [
    {
     "data": {
      "text/plain": [
       "2019"
      ]
     },
     "execution_count": 23,
     "metadata": {},
     "output_type": "execute_result"
    }
   ],
   "source": [
    "yearly_total_flights.idxmax()"
   ]
  },
  {
   "cell_type": "markdown",
   "id": "85212c41",
   "metadata": {},
   "source": [
    "# Is there a difference in the number of flights between domestic and foreign carriers?"
   ]
  },
  {
   "cell_type": "code",
   "execution_count": 24,
   "id": "efe92d36",
   "metadata": {},
   "outputs": [
    {
     "name": "stdout",
     "output_type": "stream",
     "text": [
      "Carrier Total of Flights:\n",
      "carriergroup\n",
      "0    16258603\n",
      "1    22843398\n",
      "Name: Total, dtype: int64\n"
     ]
    }
   ],
   "source": [
    "carrier_total_flights=international_report_departures.groupby(['carriergroup'])['Total'].sum()\n",
    "print(\"Carrier Total of Flights:\")\n",
    "print(carrier_total_flights)"
   ]
  },
  {
   "cell_type": "markdown",
   "id": "d0296c89",
   "metadata": {},
   "source": [
    "# Which airline had the highest number of flights? Have there been any shifts in the dominance of airlines over the years?"
   ]
  },
  {
   "cell_type": "code",
   "execution_count": 25,
   "id": "9c526205",
   "metadata": {},
   "outputs": [
    {
     "name": "stdout",
     "output_type": "stream",
     "text": [
      "Airline Total of Flights:\n",
      "airlineid\n",
      "19805    4419838\n",
      "Name: Total, dtype: int64\n"
     ]
    }
   ],
   "source": [
    "airline_total_flights=international_report_departures.groupby(['airlineid'])['Total'].sum().nlargest(1)\n",
    "print(\"Airline Total of Flights:\")\n",
    "print(airline_total_flights)"
   ]
  },
  {
   "cell_type": "code",
   "execution_count": null,
   "id": "88a38858",
   "metadata": {},
   "outputs": [],
   "source": []
  }
 ],
 "metadata": {
  "kernelspec": {
   "display_name": "Python 3",
   "language": "python",
   "name": "python3"
  },
  "language_info": {
   "codemirror_mode": {
    "name": "ipython",
    "version": 3
   },
   "file_extension": ".py",
   "mimetype": "text/x-python",
   "name": "python",
   "nbconvert_exporter": "python",
   "pygments_lexer": "ipython3",
   "version": "3.8.8"
  }
 },
 "nbformat": 4,
 "nbformat_minor": 5
}
